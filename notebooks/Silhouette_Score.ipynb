{
 "cells": [
  {
   "attachments": {},
   "cell_type": "markdown",
   "metadata": {},
   "source": [
    "This notebook is to compute the sillhouette scores for clusters in the network intrusion dataset. Because there is no python equivalent to the daisy() function in r, it makes sense for me to compute the silhouette scores in r"
   ]
  },
  {
   "cell_type": "code",
   "execution_count": 2,
   "metadata": {
    "vscode": {
     "languageId": "r"
    }
   },
   "outputs": [],
   "source": [
    "# Importing Packages\n",
    "library(cluster)\n",
    "library(clustMixType)"
   ]
  },
  {
   "attachments": {},
   "cell_type": "markdown",
   "metadata": {},
   "source": [
    "Set the file path to avoid loading confusion"
   ]
  },
  {
   "cell_type": "code",
   "execution_count": 3,
   "metadata": {
    "vscode": {
     "languageId": "r"
    }
   },
   "outputs": [],
   "source": [
    "# set the correct file Path\n",
    "setwd(\"C:/Users/jdrel/OneDrive/Documents/Data_Science/Springboard/Capstone-2\")"
   ]
  },
  {
   "attachments": {},
   "cell_type": "markdown",
   "metadata": {},
   "source": [
    "Load the Data"
   ]
  },
  {
   "cell_type": "code",
   "execution_count": 4,
   "metadata": {
    "vscode": {
     "languageId": "r"
    }
   },
   "outputs": [],
   "source": [
    "# Loading X_scaled as the data\n",
    "data <- read.csv(\"./data/interim/X_scaled.csv\")\n",
    "# Loading the list of clusters where k = 8\n",
    "clusters <- read.csv(\"./data/interim/clusters.csv\")"
   ]
  },
  {
   "attachments": {},
   "cell_type": "markdown",
   "metadata": {},
   "source": [
    "Change the type of the last 7 columns to factor"
   ]
  },
  {
   "cell_type": "code",
   "execution_count": 5,
   "metadata": {
    "vscode": {
     "languageId": "r"
    }
   },
   "outputs": [],
   "source": [
    "# Create a loop for numbers 36-42\n",
    "for (i in 36:42) {\n",
    "    # Reassign those columns as factors\n",
    "    data[i] <- lapply(data[i], factor)\n",
    "}"
   ]
  },
  {
   "attachments": {},
   "cell_type": "markdown",
   "metadata": {},
   "source": [
    "Initialize the variables that will be long lists"
   ]
  },
  {
   "cell_type": "code",
   "execution_count": 10,
   "metadata": {
    "vscode": {
     "languageId": "r"
    }
   },
   "outputs": [],
   "source": [
    "#Initialize Silhouette Scores\n",
    "sil_score <- numeric()\n",
    "# Initialize dissimilarity matrix for each row\n",
    "diss_mat <- numeric()"
   ]
  },
  {
   "attachments": {},
   "cell_type": "markdown",
   "metadata": {},
   "source": [
    "Perform the Silhouette calculations"
   ]
  },
  {
   "cell_type": "code",
   "execution_count": 20,
   "metadata": {
    "vscode": {
     "languageId": "r"
    }
   },
   "outputs": [
    {
     "name": "stdout",
     "output_type": "stream",
     "text": [
      "  |                                                                      |   0%[1] 11\n",
      "[1] 6\n"
     ]
    },
    {
     "ename": "ERROR",
     "evalue": "Error in silhouette.default(diss_mat, label): 'x' must only have integer codes\n",
     "output_type": "error",
     "traceback": [
      "Error in silhouette.default(diss_mat, label): 'x' must only have integer codes\nTraceback:\n",
      "1. silhouette(diss_mat, label)",
      "2. silhouette.default(diss_mat, label)",
      "3. stop(\"'x' must only have integer codes\")"
     ]
    }
   ],
   "source": [
    "# Create the first loop that will loop through all the rows\n",
    "pb <- txtProgressBar(min = 1, max = nrow(data), style = 3)\n",
    "for (i in seq_len(1)) {\n",
    "    for (j in seq_len(5)) {\n",
    "        # Create a progress bar to see how much of the loop is complete\n",
    "        setTxtProgressBar(pb,j)\n",
    "        # combine two rows at a time to make it small enough to handle\n",
    "        rows <- rbind(data[1, ], data[j, ])\n",
    "        # Create dissimilarity matrix to compare the points in the selected rows\n",
    "        diss_mat_temp <- daisy(rows, metric = \"gower\",\n",
    "                        type = list(as.integer = seq_len(35),\n",
    "                                    as.character = 36:42))\n",
    "        # Change dissmat to a list so it can be flattened\n",
    "        diss_mat <- c(diss_mat, as.integer(diss_mat_temp))\n",
    "  }\n",
    "    print(length(diss_mat))\n",
    "    # Get the label for that specific row\n",
    "    label <- clusters$cluster[i]\n",
    "    print(label)\n",
    "    # Run the silhouette score for that row\n",
    "    sil_score <- c(sil_score, silhouette(diss_mat, label)[, 3])\n",
    "}\n",
    "\n",
    "# Print out the silhouette score\n",
    "print(mean(sil_score))"
   ]
  },
  {
   "cell_type": "code",
   "execution_count": 17,
   "metadata": {
    "vscode": {
     "languageId": "r"
    }
   },
   "outputs": [
    {
     "name": "stdout",
     "output_type": "stream",
     "text": [
      "[1] 0.1428571\n"
     ]
    }
   ],
   "source": [
    "# Initialize dissimilarity matrix for each row\n",
    "diss_mat <- numeric()\n",
    "# combine two rows at a time to make it small enough to handle\n",
    "rows <- rbind(data[1, ], data[2, ])\n",
    "# Create dissimilarity matrix to compare the points in the selected rows\n",
    "diss_mat_temp <- daisy(rows, metric = \"gower\",\n",
    "                       type = list(as.integer = seq_len(35),\n",
    "                                   as.character = 36:42))\n",
    "# Change dissmat to a list so it can be flattened\n",
    "diss_mat <- c(diss_mat, as.numeric(diss_mat_temp))\n",
    "print(diss_mat)"
   ]
  }
 ],
 "metadata": {
  "kernelspec": {
   "display_name": "R",
   "language": "R",
   "name": "ir"
  },
  "language_info": {
   "codemirror_mode": "r",
   "file_extension": ".r",
   "mimetype": "text/x-r-source",
   "name": "R",
   "pygments_lexer": "r",
   "version": "4.1.3"
  },
  "orig_nbformat": 4
 },
 "nbformat": 4,
 "nbformat_minor": 2
}
