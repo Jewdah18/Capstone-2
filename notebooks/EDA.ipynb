{
 "cells": [
  {
   "attachments": {},
   "cell_type": "markdown",
   "metadata": {},
   "source": [
    "# <Center>  **Exploratory Data Analysis**\n",
    "\n",
    "## Loading Data and Packages"
   ]
  },
  {
   "attachments": {},
   "cell_type": "markdown",
   "metadata": {},
   "source": [
    "First import all of the necessary Modules"
   ]
  },
  {
   "cell_type": "code",
   "execution_count": 2,
   "metadata": {},
   "outputs": [],
   "source": [
    "# Import the Data Science Essentials\n",
    "import pandas as pd\n",
    "import numpy as np\n",
    "import matplotlib.pyplot as plt\n",
    "import seaborn as sns\n",
    "import os"
   ]
  },
  {
   "cell_type": "code",
   "execution_count": 3,
   "metadata": {},
   "outputs": [],
   "source": [
    "# Find and set the working directory for this project\n",
    "os.chdir(r'C:\\Users\\jdrel\\OneDrive\\Documents\\Data_Science\\Springboard\\Capstone-2')"
   ]
  },
  {
   "attachments": {},
   "cell_type": "markdown",
   "metadata": {},
   "source": [
    "Load the Data"
   ]
  },
  {
   "cell_type": "code",
   "execution_count": 4,
   "metadata": {},
   "outputs": [],
   "source": [
    "# Import the data\n",
    "data = pd.read_csv('./data/interim/KDD Data.csv')"
   ]
  },
  {
   "cell_type": "code",
   "execution_count": 6,
   "metadata": {},
   "outputs": [
    {
     "name": "stdout",
     "output_type": "stream",
     "text": [
      "<class 'pandas.core.frame.DataFrame'>\n",
      "RangeIndex: 494020 entries, 0 to 494019\n",
      "Data columns (total 43 columns):\n",
      " #   Column                       Non-Null Count   Dtype  \n",
      "---  ------                       --------------   -----  \n",
      " 0   Unnamed: 0                   494020 non-null  int64  \n",
      " 1   duration                     494020 non-null  int64  \n",
      " 2   protocol_type                494020 non-null  object \n",
      " 3   service                      494020 non-null  object \n",
      " 4   flag                         494020 non-null  object \n",
      " 5   src_bytes                    494020 non-null  int64  \n",
      " 6   dst_bytes                    494020 non-null  int64  \n",
      " 7   land                         494020 non-null  int64  \n",
      " 8   wrong_fragment               494020 non-null  int64  \n",
      " 9   urgent                       494020 non-null  int64  \n",
      " 10  hot                          494020 non-null  int64  \n",
      " 11  num_failed_logins            494020 non-null  int64  \n",
      " 12  logged_in                    494020 non-null  int64  \n",
      " 13  num_compromised              494020 non-null  int64  \n",
      " 14  root_shell                   494020 non-null  int64  \n",
      " 15  su_attempted                 494020 non-null  int64  \n",
      " 16  num_root                     494020 non-null  int64  \n",
      " 17  num_file_creations           494020 non-null  int64  \n",
      " 18  num_shells                   494020 non-null  int64  \n",
      " 19  num_access_files             494020 non-null  int64  \n",
      " 20  num_outbound_cmds            494020 non-null  int64  \n",
      " 21  is_host_login                494020 non-null  int64  \n",
      " 22  is_guest_login               494020 non-null  int64  \n",
      " 23  count                        494020 non-null  int64  \n",
      " 24  srv_count                    494020 non-null  int64  \n",
      " 25  serror_rate                  494020 non-null  float64\n",
      " 26  srv_serror_rate              494020 non-null  float64\n",
      " 27  rerror_rate                  494020 non-null  float64\n",
      " 28  srv_rerror_rate              494020 non-null  float64\n",
      " 29  same_srv_rate                494020 non-null  float64\n",
      " 30  diff_srv_rate                494020 non-null  float64\n",
      " 31  srv_diff_host_rate           494020 non-null  float64\n",
      " 32  dst_host_count               494020 non-null  int64  \n",
      " 33  dst_host_srv_count           494020 non-null  int64  \n",
      " 34  dst_host_same_srv_rate       494020 non-null  float64\n",
      " 35  dst_host_diff_srv_rate       494020 non-null  float64\n",
      " 36  dst_host_same_src_port_rate  494020 non-null  float64\n",
      " 37  dst_host_srv_diff_host_rate  494020 non-null  float64\n",
      " 38  dst_host_serror_rate         494020 non-null  float64\n",
      " 39  dst_host_srv_serror_rate     494020 non-null  float64\n",
      " 40  dst_host_rerror_rate         494020 non-null  float64\n",
      " 41  dst_host_srv_rerror_rate     494020 non-null  float64\n",
      " 42  labels                       494020 non-null  object \n",
      "dtypes: float64(15), int64(24), object(4)\n",
      "memory usage: 162.1+ MB\n"
     ]
    }
   ],
   "source": [
    "data.head()\n",
    "data.info()"
   ]
  },
  {
   "attachments": {},
   "cell_type": "markdown",
   "metadata": {},
   "source": [
    "## Basic Analysis"
   ]
  },
  {
   "attachments": {},
   "cell_type": "markdown",
   "metadata": {},
   "source": [
    "This dataset has a large amount of independent variables that are hard to understand on their own. It's dependent variable is categorical with many categories that need some research to understand. The first thing to do is to research all of the categories of the dependent variable. To do this we can print out each of the types of network intrusion in the dataset in a format that can be used in markdown and ChatGPT"
   ]
  },
  {
   "cell_type": "code",
   "execution_count": 10,
   "metadata": {},
   "outputs": [
    {
     "name": "stdout",
     "output_type": "stream",
     "text": [
      "- normal.\n",
      "- buffer_overflow.\n",
      "- loadmodule.\n",
      "- perl.\n",
      "- neptune.\n",
      "- smurf.\n",
      "- guess_passwd.\n",
      "- pod.\n",
      "- teardrop.\n",
      "- portsweep.\n",
      "- ipsweep.\n",
      "- land.\n",
      "- ftp_write.\n",
      "- back.\n",
      "- imap.\n",
      "- satan.\n",
      "- phf.\n",
      "- nmap.\n",
      "- multihop.\n",
      "- warezmaster.\n",
      "- warezclient.\n",
      "- spy.\n",
      "- rootkit.\n"
     ]
    }
   ],
   "source": [
    "for type in data['labels'].unique():\n",
    "    print(f\"- {type}\")"
   ]
  },
  {
   "attachments": {},
   "cell_type": "markdown",
   "metadata": {},
   "source": [
    "After plugging the above list into ChatGPT with the query \"For each of these network intrusions can you please give a sentence summary describing what they are.\" It returned these explanations for each of the network intrusion types\n",
    "- normal: This is not an attack type, but rather a classification used to indicate that the network traffic is within normal parameters.\n",
    "- buffer_overflow: This attack occurs when a program or process attempts to store more data in a buffer than it was intended to hold, causing the excess data to overflow into adjacent memory locations.\n",
    "- loadmodule: This type of attack involves the unauthorized loading of a module or plugin into a vulnerable system, which can then be used to gain further access or control over the system.\n",
    "- perl: This is a type of attack that involves exploiting vulnerabilities in Perl scripts, which are often used to power web applications and other online services.\n",
    "- neptune: This attack type involves overwhelming a targeted system with a flood of TCP packets, causing it to become unresponsive or crash.\n",
    "- smurf: This attack type is similar to the neptune attack, but involves using a network of intermediary hosts to amplify the volume of traffic directed at the target system.\n",
    "- guess_passwd: This attack type involves attempting to guess a user's password by systematically trying a large number of possible combinations.\n",
    "- pod: This attack type involves sending malformed packets to a target system in order to cause it to crash or become unstable.\n",
    "- teardrop: This is a type of attack that involves sending overlapping or malformed packets to a target system, causing it to crash or become unstable.\n",
    "- portsweep: This attack involves scanning a range of network ports on a target system to identify potential vulnerabilities or open services.\n",
    "- ipsweep: This attack involves scanning a range of IP addresses to identify potential targets for further attacks or exploitation.\n",
    "- land: This attack type involves sending TCP packets with the source IP address set to the same as the destination IP address, causing the targeted system to become unresponsive or crash.\n",
    "- ftp_write: This attack involves gaining unauthorized access to an FTP server and uploading or modifying files on the server.\n",
    "- back: This type of attack involves installing backdoor software on a targeted system, which can then be used to gain unauthorized access or control over the system at a later time.\n",
    "- imap: This attack involves exploiting vulnerabilities in the Internet Message Access Protocol (IMAP), which is commonly used for retrieving email messages.\n",
    "- satan: This is a type of network scanning tool that can be used to identify potential vulnerabilities or open services on a target system.\n",
    "- phf: This attack involves exploiting vulnerabilities in the Common Gateway Interface (CGI) scripts that are often used to power web applications and other online services.\n",
    "- nmap: This is another type of network scanning tool that can be used to identify potential vulnerabilities or open services on a target system.\n",
    "- multihop: This type of attack involves using a chain of intermediary hosts to mask the origin of the attack and make it more difficult to trace back to the attacker.\n",
    "- warezmaster: This attack type involves using a compromised system to distribute pirated software or other illegal materials.\n",
    "- warezclient: This attack involves using a compromised system to download pirated software or other illegal materials.\n",
    "- spy: This type of attack involves monitoring or eavesdropping on network traffic in order to steal sensitive information or gain unauthorized access to a targeted system.\n",
    "- rootkit: This is a type of malware that is designed to hide its presence on a targeted system, making it more difficult to detect or remove.\n",
    "\n",
    "It seems as though some of these intrusions should clearly be grouped together. For instance portsweep and ipsweep are both types of sweeps that search for vulnerabilities in the system at different levels and are the same type of intrusion. But we can't be sure because it is possible that one of them would be more closely related with an actual attack since a type of sweep could lead to a ping of death (pod). Without clear information on how to group the different intrusions, we need to use cluster analysis to determine which groups look the closest. \n"
   ]
  }
 ],
 "metadata": {
  "kernelspec": {
   "display_name": "Capstone-2",
   "language": "python",
   "name": "python3"
  },
  "language_info": {
   "codemirror_mode": {
    "name": "ipython",
    "version": 3
   },
   "file_extension": ".py",
   "mimetype": "text/x-python",
   "name": "python",
   "nbconvert_exporter": "python",
   "pygments_lexer": "ipython3",
   "version": "3.9.15"
  },
  "orig_nbformat": 4,
  "vscode": {
   "interpreter": {
    "hash": "d8543b166641ea1797de370a5e8e08ae0d0fefd655bae34b1f79dc9cd0932f8b"
   }
  }
 },
 "nbformat": 4,
 "nbformat_minor": 2
}
