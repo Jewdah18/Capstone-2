{
 "cells": [
  {
   "attachments": {},
   "cell_type": "markdown",
   "metadata": {},
   "source": [
    "# <center> Pip Packages Notebook"
   ]
  },
  {
   "cell_type": "code",
   "execution_count": null,
   "metadata": {},
   "outputs": [],
   "source": [
    "# Import the Data Science Essentials\n",
    "import pandas as pd\n",
    "import numpy as np\n",
    "\n",
    "from kmodes.kprototypes import KPrototypes\n",
    "from gap_statistic import OptimalK\n",
    "from gap_stat import Gapstatclustering\n",
    "import gower\n"
   ]
  },
  {
   "cell_type": "code",
   "execution_count": null,
   "metadata": {},
   "outputs": [],
   "source": [
    "# Import data and variables from EDA notebook\n",
    "X = pd.read_csv('./data/interim/X_scaled.csv')\n",
    "# The column index is 34-40 as it was appended on the other columns\n",
    "cat_col_index = [i for i in range(34,41)]"
   ]
  },
  {
   "cell_type": "code",
   "execution_count": null,
   "metadata": {},
   "outputs": [],
   "source": []
  }
 ],
 "metadata": {
  "kernelspec": {
   "display_name": "Capstone-2_pip",
   "language": "python",
   "name": "python3"
  },
  "language_info": {
   "name": "python",
   "version": "3.11.0"
  },
  "orig_nbformat": 4
 },
 "nbformat": 4,
 "nbformat_minor": 2
}
